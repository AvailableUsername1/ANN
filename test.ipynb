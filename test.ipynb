{
 "cells": [
  {
   "cell_type": "code",
   "execution_count": 5,
   "metadata": {},
   "outputs": [],
   "source": [
    "import numpy as np\n",
    "from network import Network\n",
    "\n",
    "#initializng the network\n",
    "ANN = Network([784,30,10])"
   ]
  },
  {
   "cell_type": "code",
   "execution_count": 6,
   "metadata": {},
   "outputs": [],
   "source": [
    "from mnist_loader import load_data\n",
    "\n",
    "tr, vl, ts = load_data()"
   ]
  },
  {
   "cell_type": "code",
   "execution_count": 7,
   "metadata": {},
   "outputs": [
    {
     "name": "stdout",
     "output_type": "stream",
     "text": [
      "End of epoch 0: 8458 / 10000\n",
      "End of epoch 1: 8861 / 10000\n",
      "End of epoch 2: 9018 / 10000\n",
      "End of epoch 3: 9097 / 10000\n",
      "End of epoch 4: 9166 / 10000\n",
      "End of epoch 5: 9218 / 10000\n",
      "End of epoch 6: 9247 / 10000\n",
      "End of epoch 7: 9293 / 10000\n",
      "End of epoch 8: 9300 / 10000\n",
      "End of epoch 9: 9323 / 10000\n",
      "End of epoch 10: 9342 / 10000\n",
      "End of epoch 11: 9352 / 10000\n",
      "End of epoch 12: 9363 / 10000\n",
      "End of epoch 13: 9371 / 10000\n",
      "End of epoch 14: 9383 / 10000\n",
      "End of epoch 15: 9410 / 10000\n",
      "End of epoch 16: 9405 / 10000\n",
      "End of epoch 17: 9407 / 10000\n",
      "End of epoch 18: 9409 / 10000\n",
      "End of epoch 19: 9417 / 10000\n",
      "End of epoch 20: 9429 / 10000\n",
      "End of epoch 21: 9446 / 10000\n",
      "End of epoch 22: 9440 / 10000\n",
      "End of epoch 23: 9434 / 10000\n",
      "End of epoch 24: 9453 / 10000\n",
      "End of epoch 25: 9452 / 10000\n",
      "End of epoch 26: 9453 / 10000\n",
      "End of epoch 27: 9447 / 10000\n",
      "End of epoch 28: 9447 / 10000\n",
      "End of epoch 29: 9466 / 10000\n"
     ]
    }
   ],
   "source": [
    "#training the model using stochastic gradient descent\n",
    "ANN.SGD(tr, valdata = vl, epochs = 30, batchsize = 20, lr = 1)"
   ]
  },
  {
   "cell_type": "code",
   "execution_count": 8,
   "metadata": {},
   "outputs": [
    {
     "data": {
      "text/plain": [
       "9408"
      ]
     },
     "execution_count": 8,
     "metadata": {},
     "output_type": "execute_result"
    }
   ],
   "source": [
    "#accuracy of the model on test data\n",
    "accuracy = ANN.accuracy(ts)\n",
    "accuracy"
   ]
  }
 ],
 "metadata": {
  "interpreter": {
   "hash": "b61f485532fd957b3b7677005c02f3d01e1ee16a8128816521630bd941ac11ac"
  },
  "kernelspec": {
   "display_name": "Python 3.8.11 ('datascience')",
   "language": "python",
   "name": "python3"
  },
  "language_info": {
   "codemirror_mode": {
    "name": "ipython",
    "version": 3
   },
   "file_extension": ".py",
   "mimetype": "text/x-python",
   "name": "python",
   "nbconvert_exporter": "python",
   "pygments_lexer": "ipython3",
   "version": "3.8.11"
  },
  "orig_nbformat": 4
 },
 "nbformat": 4,
 "nbformat_minor": 2
}
