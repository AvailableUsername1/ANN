{
 "cells": [
  {
   "cell_type": "code",
   "execution_count": 1,
   "metadata": {},
   "outputs": [],
   "source": [
    "import numpy as np\n",
    "from network import Network\n",
    "\n",
    "#initializng the network\n",
    "ANN = Network([784,30,10])"
   ]
  },
  {
   "cell_type": "code",
   "execution_count": 2,
   "metadata": {},
   "outputs": [],
   "source": [
    "from mnist_loader import load_data\n",
    "\n",
    "tr, vl, ts = load_data()"
   ]
  },
  {
   "cell_type": "code",
   "execution_count": 3,
   "metadata": {},
   "outputs": [
    {
     "name": "stdout",
     "output_type": "stream",
     "text": [
      "End of epoch 0: 4665 / 10000\n",
      "End of epoch 1: 5345 / 10000\n",
      "End of epoch 2: 5645 / 10000\n",
      "End of epoch 3: 5915 / 10000\n",
      "End of epoch 4: 6123 / 10000\n",
      "End of epoch 5: 6313 / 10000\n",
      "End of epoch 6: 6608 / 10000\n",
      "End of epoch 7: 6997 / 10000\n",
      "End of epoch 8: 7242 / 10000\n",
      "End of epoch 9: 7537 / 10000\n",
      "End of epoch 10: 7996 / 10000\n",
      "End of epoch 11: 8253 / 10000\n",
      "End of epoch 12: 8388 / 10000\n",
      "End of epoch 13: 8455 / 10000\n",
      "End of epoch 14: 8519 / 10000\n",
      "End of epoch 15: 8566 / 10000\n",
      "End of epoch 16: 8631 / 10000\n",
      "End of epoch 17: 8674 / 10000\n",
      "End of epoch 18: 8712 / 10000\n",
      "End of epoch 19: 8746 / 10000\n",
      "End of epoch 20: 8785 / 10000\n",
      "End of epoch 21: 8809 / 10000\n",
      "End of epoch 22: 8826 / 10000\n",
      "End of epoch 23: 8865 / 10000\n",
      "End of epoch 24: 8890 / 10000\n",
      "End of epoch 25: 8912 / 10000\n",
      "End of epoch 26: 8931 / 10000\n",
      "End of epoch 27: 8953 / 10000\n",
      "End of epoch 28: 8969 / 10000\n",
      "End of epoch 29: 8986 / 10000\n",
      "End of epoch 30: 9000 / 10000\n",
      "End of epoch 31: 9014 / 10000\n",
      "End of epoch 32: 9033 / 10000\n",
      "End of epoch 33: 9034 / 10000\n",
      "End of epoch 34: 9049 / 10000\n",
      "End of epoch 35: 9056 / 10000\n",
      "End of epoch 36: 9068 / 10000\n",
      "End of epoch 37: 9067 / 10000\n",
      "End of epoch 38: 9082 / 10000\n",
      "End of epoch 39: 9085 / 10000\n"
     ]
    }
   ],
   "source": [
    "#training the model using stochastic gradient descent\n",
    "ANN.SGD(tr, valdata = vl, epochs = 40, batchsize = 20, lr = 0.1)"
   ]
  },
  {
   "cell_type": "code",
   "execution_count": 4,
   "metadata": {},
   "outputs": [],
   "source": [
    "#accuracy of the model on test data\n",
    "accuracy = ANN.accuracy(ts)\n",
    "accuracy"
   ]
  }
 ],
 "metadata": {
  "interpreter": {
   "hash": "b61f485532fd957b3b7677005c02f3d01e1ee16a8128816521630bd941ac11ac"
  },
  "kernelspec": {
   "display_name": "Python 3.8.11 ('datascience')",
   "language": "python",
   "name": "python3"
  },
  "language_info": {
   "codemirror_mode": {
    "name": "ipython",
    "version": 3
   },
   "file_extension": ".py",
   "mimetype": "text/x-python",
   "name": "python",
   "nbconvert_exporter": "python",
   "pygments_lexer": "ipython3",
   "version": "3.8.11"
  },
  "orig_nbformat": 4
 },
 "nbformat": 4,
 "nbformat_minor": 2
}
